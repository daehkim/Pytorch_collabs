{
  "nbformat": 4,
  "nbformat_minor": 0,
  "metadata": {
    "colab": {
      "name": "CNN_visualization.ipynb",
      "provenance": [],
      "collapsed_sections": [],
      "authorship_tag": "ABX9TyPKVWiFpFVDN3rRCU9fTGMV",
      "include_colab_link": true
    },
    "kernelspec": {
      "name": "python3",
      "display_name": "Python 3"
    },
    "language_info": {
      "name": "python"
    },
    "widgets": {
      "application/vnd.jupyter.widget-state+json": {
        "b23b902918024c2b82b4c29ce08f55fd": {
          "model_module": "@jupyter-widgets/controls",
          "model_name": "HBoxModel",
          "model_module_version": "1.5.0",
          "state": {
            "_view_name": "HBoxView",
            "_dom_classes": [],
            "_model_name": "HBoxModel",
            "_view_module": "@jupyter-widgets/controls",
            "_model_module_version": "1.5.0",
            "_view_count": null,
            "_view_module_version": "1.5.0",
            "box_style": "",
            "layout": "IPY_MODEL_e1a08252e7d941d389e0277166a27ce8",
            "_model_module": "@jupyter-widgets/controls",
            "children": [
              "IPY_MODEL_e7c6c8d523044cd08a8de72022c2bc33",
              "IPY_MODEL_6024fdd8182c4aac89e710a4f6eb56f4",
              "IPY_MODEL_17a4783a2c454a95ba6a295a4b17623f"
            ]
          }
        },
        "e1a08252e7d941d389e0277166a27ce8": {
          "model_module": "@jupyter-widgets/base",
          "model_name": "LayoutModel",
          "model_module_version": "1.2.0",
          "state": {
            "_view_name": "LayoutView",
            "grid_template_rows": null,
            "right": null,
            "justify_content": null,
            "_view_module": "@jupyter-widgets/base",
            "overflow": null,
            "_model_module_version": "1.2.0",
            "_view_count": null,
            "flex_flow": null,
            "width": null,
            "min_width": null,
            "border": null,
            "align_items": null,
            "bottom": null,
            "_model_module": "@jupyter-widgets/base",
            "top": null,
            "grid_column": null,
            "overflow_y": null,
            "overflow_x": null,
            "grid_auto_flow": null,
            "grid_area": null,
            "grid_template_columns": null,
            "flex": null,
            "_model_name": "LayoutModel",
            "justify_items": null,
            "grid_row": null,
            "max_height": null,
            "align_content": null,
            "visibility": null,
            "align_self": null,
            "height": null,
            "min_height": null,
            "padding": null,
            "grid_auto_rows": null,
            "grid_gap": null,
            "max_width": null,
            "order": null,
            "_view_module_version": "1.2.0",
            "grid_template_areas": null,
            "object_position": null,
            "object_fit": null,
            "grid_auto_columns": null,
            "margin": null,
            "display": null,
            "left": null
          }
        },
        "e7c6c8d523044cd08a8de72022c2bc33": {
          "model_module": "@jupyter-widgets/controls",
          "model_name": "HTMLModel",
          "model_module_version": "1.5.0",
          "state": {
            "_view_name": "HTMLView",
            "style": "IPY_MODEL_a06642845dbf45ea99da7ce80e0c886c",
            "_dom_classes": [],
            "description": "",
            "_model_name": "HTMLModel",
            "placeholder": "​",
            "_view_module": "@jupyter-widgets/controls",
            "_model_module_version": "1.5.0",
            "value": "",
            "_view_count": null,
            "_view_module_version": "1.5.0",
            "description_tooltip": null,
            "_model_module": "@jupyter-widgets/controls",
            "layout": "IPY_MODEL_0f7a2f0089c7445299c76bda1920eb3d"
          }
        },
        "6024fdd8182c4aac89e710a4f6eb56f4": {
          "model_module": "@jupyter-widgets/controls",
          "model_name": "FloatProgressModel",
          "model_module_version": "1.5.0",
          "state": {
            "_view_name": "ProgressView",
            "style": "IPY_MODEL_071bf439349c4bb199e6d4ca64989479",
            "_dom_classes": [],
            "description": "",
            "_model_name": "FloatProgressModel",
            "bar_style": "success",
            "max": 170498071,
            "_view_module": "@jupyter-widgets/controls",
            "_model_module_version": "1.5.0",
            "value": 170498071,
            "_view_count": null,
            "_view_module_version": "1.5.0",
            "orientation": "horizontal",
            "min": 0,
            "description_tooltip": null,
            "_model_module": "@jupyter-widgets/controls",
            "layout": "IPY_MODEL_47025a6208744bdcb7e9761f4d3ad3bf"
          }
        },
        "17a4783a2c454a95ba6a295a4b17623f": {
          "model_module": "@jupyter-widgets/controls",
          "model_name": "HTMLModel",
          "model_module_version": "1.5.0",
          "state": {
            "_view_name": "HTMLView",
            "style": "IPY_MODEL_6cec287cb80547d2b2b74893fb577f6a",
            "_dom_classes": [],
            "description": "",
            "_model_name": "HTMLModel",
            "placeholder": "​",
            "_view_module": "@jupyter-widgets/controls",
            "_model_module_version": "1.5.0",
            "value": " 170499072/? [00:04&lt;00:00, 48395178.94it/s]",
            "_view_count": null,
            "_view_module_version": "1.5.0",
            "description_tooltip": null,
            "_model_module": "@jupyter-widgets/controls",
            "layout": "IPY_MODEL_d1acdf3686084fa1b40b35d853c9060b"
          }
        },
        "a06642845dbf45ea99da7ce80e0c886c": {
          "model_module": "@jupyter-widgets/controls",
          "model_name": "DescriptionStyleModel",
          "model_module_version": "1.5.0",
          "state": {
            "_view_name": "StyleView",
            "_model_name": "DescriptionStyleModel",
            "description_width": "",
            "_view_module": "@jupyter-widgets/base",
            "_model_module_version": "1.5.0",
            "_view_count": null,
            "_view_module_version": "1.2.0",
            "_model_module": "@jupyter-widgets/controls"
          }
        },
        "0f7a2f0089c7445299c76bda1920eb3d": {
          "model_module": "@jupyter-widgets/base",
          "model_name": "LayoutModel",
          "model_module_version": "1.2.0",
          "state": {
            "_view_name": "LayoutView",
            "grid_template_rows": null,
            "right": null,
            "justify_content": null,
            "_view_module": "@jupyter-widgets/base",
            "overflow": null,
            "_model_module_version": "1.2.0",
            "_view_count": null,
            "flex_flow": null,
            "width": null,
            "min_width": null,
            "border": null,
            "align_items": null,
            "bottom": null,
            "_model_module": "@jupyter-widgets/base",
            "top": null,
            "grid_column": null,
            "overflow_y": null,
            "overflow_x": null,
            "grid_auto_flow": null,
            "grid_area": null,
            "grid_template_columns": null,
            "flex": null,
            "_model_name": "LayoutModel",
            "justify_items": null,
            "grid_row": null,
            "max_height": null,
            "align_content": null,
            "visibility": null,
            "align_self": null,
            "height": null,
            "min_height": null,
            "padding": null,
            "grid_auto_rows": null,
            "grid_gap": null,
            "max_width": null,
            "order": null,
            "_view_module_version": "1.2.0",
            "grid_template_areas": null,
            "object_position": null,
            "object_fit": null,
            "grid_auto_columns": null,
            "margin": null,
            "display": null,
            "left": null
          }
        },
        "071bf439349c4bb199e6d4ca64989479": {
          "model_module": "@jupyter-widgets/controls",
          "model_name": "ProgressStyleModel",
          "model_module_version": "1.5.0",
          "state": {
            "_view_name": "StyleView",
            "_model_name": "ProgressStyleModel",
            "description_width": "",
            "_view_module": "@jupyter-widgets/base",
            "_model_module_version": "1.5.0",
            "_view_count": null,
            "_view_module_version": "1.2.0",
            "bar_color": null,
            "_model_module": "@jupyter-widgets/controls"
          }
        },
        "47025a6208744bdcb7e9761f4d3ad3bf": {
          "model_module": "@jupyter-widgets/base",
          "model_name": "LayoutModel",
          "model_module_version": "1.2.0",
          "state": {
            "_view_name": "LayoutView",
            "grid_template_rows": null,
            "right": null,
            "justify_content": null,
            "_view_module": "@jupyter-widgets/base",
            "overflow": null,
            "_model_module_version": "1.2.0",
            "_view_count": null,
            "flex_flow": null,
            "width": null,
            "min_width": null,
            "border": null,
            "align_items": null,
            "bottom": null,
            "_model_module": "@jupyter-widgets/base",
            "top": null,
            "grid_column": null,
            "overflow_y": null,
            "overflow_x": null,
            "grid_auto_flow": null,
            "grid_area": null,
            "grid_template_columns": null,
            "flex": null,
            "_model_name": "LayoutModel",
            "justify_items": null,
            "grid_row": null,
            "max_height": null,
            "align_content": null,
            "visibility": null,
            "align_self": null,
            "height": null,
            "min_height": null,
            "padding": null,
            "grid_auto_rows": null,
            "grid_gap": null,
            "max_width": null,
            "order": null,
            "_view_module_version": "1.2.0",
            "grid_template_areas": null,
            "object_position": null,
            "object_fit": null,
            "grid_auto_columns": null,
            "margin": null,
            "display": null,
            "left": null
          }
        },
        "6cec287cb80547d2b2b74893fb577f6a": {
          "model_module": "@jupyter-widgets/controls",
          "model_name": "DescriptionStyleModel",
          "model_module_version": "1.5.0",
          "state": {
            "_view_name": "StyleView",
            "_model_name": "DescriptionStyleModel",
            "description_width": "",
            "_view_module": "@jupyter-widgets/base",
            "_model_module_version": "1.5.0",
            "_view_count": null,
            "_view_module_version": "1.2.0",
            "_model_module": "@jupyter-widgets/controls"
          }
        },
        "d1acdf3686084fa1b40b35d853c9060b": {
          "model_module": "@jupyter-widgets/base",
          "model_name": "LayoutModel",
          "model_module_version": "1.2.0",
          "state": {
            "_view_name": "LayoutView",
            "grid_template_rows": null,
            "right": null,
            "justify_content": null,
            "_view_module": "@jupyter-widgets/base",
            "overflow": null,
            "_model_module_version": "1.2.0",
            "_view_count": null,
            "flex_flow": null,
            "width": null,
            "min_width": null,
            "border": null,
            "align_items": null,
            "bottom": null,
            "_model_module": "@jupyter-widgets/base",
            "top": null,
            "grid_column": null,
            "overflow_y": null,
            "overflow_x": null,
            "grid_auto_flow": null,
            "grid_area": null,
            "grid_template_columns": null,
            "flex": null,
            "_model_name": "LayoutModel",
            "justify_items": null,
            "grid_row": null,
            "max_height": null,
            "align_content": null,
            "visibility": null,
            "align_self": null,
            "height": null,
            "min_height": null,
            "padding": null,
            "grid_auto_rows": null,
            "grid_gap": null,
            "max_width": null,
            "order": null,
            "_view_module_version": "1.2.0",
            "grid_template_areas": null,
            "object_position": null,
            "object_fit": null,
            "grid_auto_columns": null,
            "margin": null,
            "display": null,
            "left": null
          }
        }
      }
    }
  },
  "cells": [
    {
      "cell_type": "markdown",
      "metadata": {
        "id": "view-in-github",
        "colab_type": "text"
      },
      "source": [
        "<a href=\"https://colab.research.google.com/github/daehkim/Pytorch_collabs/blob/main/CNN_visualization.ipynb\" target=\"_parent\"><img src=\"https://colab.research.google.com/assets/colab-badge.svg\" alt=\"Open In Colab\"/></a>"
      ]
    },
    {
      "cell_type": "code",
      "metadata": {
        "id": "sxUclk-CJkVJ"
      },
      "source": [
        "import torch\n",
        "import matplotlib.pyplot as plt\n",
        "import numpy as np\n",
        "import torch.nn as nn\n",
        "import torch.optim as optim\n",
        "from torch.utils.data import Dataset, DataLoader,TensorDataset,random_split,SubsetRandomSampler, ConcatDataset\n",
        "from torch.nn import functional as F\n",
        "import torchvision\n",
        "from torchvision import datasets,transforms\n",
        "import torchvision.transforms as transforms\n",
        "import torchvision.models as models\n",
        "import math"
      ],
      "execution_count": 29,
      "outputs": []
    },
    {
      "cell_type": "code",
      "metadata": {
        "colab": {
          "base_uri": "https://localhost:8080/",
          "height": 103,
          "referenced_widgets": [
            "b23b902918024c2b82b4c29ce08f55fd",
            "e1a08252e7d941d389e0277166a27ce8",
            "e7c6c8d523044cd08a8de72022c2bc33",
            "6024fdd8182c4aac89e710a4f6eb56f4",
            "17a4783a2c454a95ba6a295a4b17623f",
            "a06642845dbf45ea99da7ce80e0c886c",
            "0f7a2f0089c7445299c76bda1920eb3d",
            "071bf439349c4bb199e6d4ca64989479",
            "47025a6208744bdcb7e9761f4d3ad3bf",
            "6cec287cb80547d2b2b74893fb577f6a",
            "d1acdf3686084fa1b40b35d853c9060b"
          ]
        },
        "id": "saEjJIMzJ32o",
        "outputId": "5779d2dc-2907-4e20-d830-8a652098ddfe"
      },
      "source": [
        "train_dataset = torchvision.datasets.CIFAR10('classifier_data', train=True, download=True)\n",
        "test_dataset  = torchvision.datasets.CIFAR10('classifier_data', train=False, download=True)"
      ],
      "execution_count": 3,
      "outputs": [
        {
          "output_type": "stream",
          "name": "stdout",
          "text": [
            "Downloading https://www.cs.toronto.edu/~kriz/cifar-10-python.tar.gz to classifier_data/cifar-10-python.tar.gz\n"
          ]
        },
        {
          "output_type": "display_data",
          "data": {
            "application/vnd.jupyter.widget-view+json": {
              "model_id": "b23b902918024c2b82b4c29ce08f55fd",
              "version_minor": 0,
              "version_major": 2
            },
            "text/plain": [
              "  0%|          | 0/170498071 [00:00<?, ?it/s]"
            ]
          },
          "metadata": {}
        },
        {
          "output_type": "stream",
          "name": "stdout",
          "text": [
            "Extracting classifier_data/cifar-10-python.tar.gz to classifier_data\n",
            "Files already downloaded and verified\n"
          ]
        }
      ]
    },
    {
      "cell_type": "code",
      "metadata": {
        "colab": {
          "base_uri": "https://localhost:8080/"
        },
        "id": "3T_mxPPkJ-QC",
        "outputId": "27818079-a36e-4687-a170-64de9c3aa72f"
      },
      "source": [
        "train_dataset.transoform=transform\n",
        "test_dataset.transofrm=transform\n",
        "\n",
        "transform = torchvision.transforms.Compose([\n",
        "    torchvision.transforms.ToTensor()\n",
        "])\n",
        "\n",
        "train_dataset.transform=transform\n",
        "test_dataset.transform=transform\n",
        "\n",
        "m=len(train_dataset)\n",
        "\n",
        "#random_split randomly split a dataset into non-overlapping new datasets of given lengths\n",
        "train_data, val_data = random_split(train_dataset, [int(m-m*0.2), int(m*0.2)])\n",
        "\n",
        "batch_size=128\n",
        "\n",
        "# The dataloaders handle shuffling, batching, etc...\n",
        "train_loader = torch.utils.data.DataLoader(train_data, batch_size=batch_size)\n",
        "valid_loader = torch.utils.data.DataLoader(val_data, batch_size=batch_size)\n",
        "test_loader = torch.utils.data.DataLoader(test_dataset, batch_size=batch_size,shuffle=True)\n",
        "\n",
        "print(\"Batches in Train Loader: {}\".format(len(train_loader)))\n",
        "print(\"Batches in Valid Loader: {}\".format(len(valid_loader)))\n",
        "print(\"Batches in Test Loader: {}\".format(len(test_loader)))\n",
        "\n",
        "print(\"Examples in Train Loader: {}\".format(len(train_loader.sampler)))\n",
        "print(\"Examples in Valid Loader: {}\".format(len(valid_loader.sampler)))\n",
        "print(\"Examples in Test Loader: {}\".format(len(test_loader.sampler)))"
      ],
      "execution_count": 124,
      "outputs": [
        {
          "output_type": "stream",
          "name": "stdout",
          "text": [
            "Batches in Train Loader: 313\n",
            "Batches in Valid Loader: 79\n",
            "Batches in Test Loader: 79\n",
            "Examples in Train Loader: 40000\n",
            "Examples in Valid Loader: 10000\n",
            "Examples in Test Loader: 10000\n"
          ]
        }
      ]
    },
    {
      "cell_type": "code",
      "metadata": {
        "colab": {
          "base_uri": "https://localhost:8080/"
        },
        "id": "AOjqz4msKXCo",
        "outputId": "180d2159-75cf-42ae-e67d-d98df29af0f5"
      },
      "source": [
        "device = torch.device(\"cuda:0\" if torch.cuda.is_available() else \"cpu\")\n",
        "torch.manual_seed(0)\n",
        "model=models.vgg16(pretrained=True)\n",
        "model.to(device)"
      ],
      "execution_count": 208,
      "outputs": [
        {
          "output_type": "execute_result",
          "data": {
            "text/plain": [
              "VGG(\n",
              "  (features): Sequential(\n",
              "    (0): Conv2d(3, 64, kernel_size=(3, 3), stride=(1, 1), padding=(1, 1))\n",
              "    (1): ReLU(inplace=True)\n",
              "    (2): Conv2d(64, 64, kernel_size=(3, 3), stride=(1, 1), padding=(1, 1))\n",
              "    (3): ReLU(inplace=True)\n",
              "    (4): MaxPool2d(kernel_size=2, stride=2, padding=0, dilation=1, ceil_mode=False)\n",
              "    (5): Conv2d(64, 128, kernel_size=(3, 3), stride=(1, 1), padding=(1, 1))\n",
              "    (6): ReLU(inplace=True)\n",
              "    (7): Conv2d(128, 128, kernel_size=(3, 3), stride=(1, 1), padding=(1, 1))\n",
              "    (8): ReLU(inplace=True)\n",
              "    (9): MaxPool2d(kernel_size=2, stride=2, padding=0, dilation=1, ceil_mode=False)\n",
              "    (10): Conv2d(128, 256, kernel_size=(3, 3), stride=(1, 1), padding=(1, 1))\n",
              "    (11): ReLU(inplace=True)\n",
              "    (12): Conv2d(256, 256, kernel_size=(3, 3), stride=(1, 1), padding=(1, 1))\n",
              "    (13): ReLU(inplace=True)\n",
              "    (14): Conv2d(256, 256, kernel_size=(3, 3), stride=(1, 1), padding=(1, 1))\n",
              "    (15): ReLU(inplace=True)\n",
              "    (16): MaxPool2d(kernel_size=2, stride=2, padding=0, dilation=1, ceil_mode=False)\n",
              "    (17): Conv2d(256, 512, kernel_size=(3, 3), stride=(1, 1), padding=(1, 1))\n",
              "    (18): ReLU(inplace=True)\n",
              "    (19): Conv2d(512, 512, kernel_size=(3, 3), stride=(1, 1), padding=(1, 1))\n",
              "    (20): ReLU(inplace=True)\n",
              "    (21): Conv2d(512, 512, kernel_size=(3, 3), stride=(1, 1), padding=(1, 1))\n",
              "    (22): ReLU(inplace=True)\n",
              "    (23): MaxPool2d(kernel_size=2, stride=2, padding=0, dilation=1, ceil_mode=False)\n",
              "    (24): Conv2d(512, 512, kernel_size=(3, 3), stride=(1, 1), padding=(1, 1))\n",
              "    (25): ReLU(inplace=True)\n",
              "    (26): Conv2d(512, 512, kernel_size=(3, 3), stride=(1, 1), padding=(1, 1))\n",
              "    (27): ReLU(inplace=True)\n",
              "    (28): Conv2d(512, 512, kernel_size=(3, 3), stride=(1, 1), padding=(1, 1))\n",
              "    (29): ReLU(inplace=True)\n",
              "    (30): MaxPool2d(kernel_size=2, stride=2, padding=0, dilation=1, ceil_mode=False)\n",
              "  )\n",
              "  (avgpool): AdaptiveAvgPool2d(output_size=(7, 7))\n",
              "  (classifier): Sequential(\n",
              "    (0): Linear(in_features=25088, out_features=4096, bias=True)\n",
              "    (1): ReLU(inplace=True)\n",
              "    (2): Dropout(p=0.5, inplace=False)\n",
              "    (3): Linear(in_features=4096, out_features=4096, bias=True)\n",
              "    (4): ReLU(inplace=True)\n",
              "    (5): Dropout(p=0.5, inplace=False)\n",
              "    (6): Linear(in_features=4096, out_features=1000, bias=True)\n",
              "  )\n",
              ")"
            ]
          },
          "metadata": {},
          "execution_count": 208
        }
      ]
    },
    {
      "cell_type": "code",
      "metadata": {
        "colab": {
          "base_uri": "https://localhost:8080/"
        },
        "id": "lD1gmXWhLUvJ",
        "outputId": "28920739-f949-46d1-f377-252fc3a0012d"
      },
      "source": [
        "model_weights = [] \n",
        "conv_layers = [] \n",
        "model_layers = list(model.children())\n",
        "\n",
        "# counter to keep count of the conv layers\n",
        "counter = 0 \n",
        "# append all the conv layers and their respective weights to the list\n",
        "for model_children in model_layers:\n",
        "    try:\n",
        "        for i in range(len(model_children)):\n",
        "            if type(model_children[i]) == nn.Conv2d:\n",
        "                counter += 1\n",
        "                model_weights.append(model_children[i].weight)\n",
        "                conv_layers.append(model_children[i])\n",
        "    except:\n",
        "        if type(model_children) == nn.Conv2d:\n",
        "            counter += 1\n",
        "            model_weights.append(model_children.weight)\n",
        "            conv_layers.append(model_children)\n",
        "    \n",
        "print(f\"Total convolutional layers: {counter}\")"
      ],
      "execution_count": 89,
      "outputs": [
        {
          "output_type": "stream",
          "name": "stdout",
          "text": [
            "Total convolutional layers: 13\n"
          ]
        }
      ]
    },
    {
      "cell_type": "code",
      "metadata": {
        "colab": {
          "base_uri": "https://localhost:8080/"
        },
        "id": "3hJO44y1PNv0",
        "outputId": "05bfde10-9c2e-4a3e-be13-4a13186ac18b"
      },
      "source": [
        "for weight, conv in zip(model_weights, conv_layers):\n",
        "    print(f\"CONV: {conv} ====> SHAPE: {weight.shape}\")"
      ],
      "execution_count": 90,
      "outputs": [
        {
          "output_type": "stream",
          "name": "stdout",
          "text": [
            "CONV: Conv2d(3, 64, kernel_size=(3, 3), stride=(1, 1), padding=(1, 1)) ====> SHAPE: torch.Size([64, 3, 3, 3])\n",
            "CONV: Conv2d(64, 64, kernel_size=(3, 3), stride=(1, 1), padding=(1, 1)) ====> SHAPE: torch.Size([64, 64, 3, 3])\n",
            "CONV: Conv2d(64, 128, kernel_size=(3, 3), stride=(1, 1), padding=(1, 1)) ====> SHAPE: torch.Size([128, 64, 3, 3])\n",
            "CONV: Conv2d(128, 128, kernel_size=(3, 3), stride=(1, 1), padding=(1, 1)) ====> SHAPE: torch.Size([128, 128, 3, 3])\n",
            "CONV: Conv2d(128, 256, kernel_size=(3, 3), stride=(1, 1), padding=(1, 1)) ====> SHAPE: torch.Size([256, 128, 3, 3])\n",
            "CONV: Conv2d(256, 256, kernel_size=(3, 3), stride=(1, 1), padding=(1, 1)) ====> SHAPE: torch.Size([256, 256, 3, 3])\n",
            "CONV: Conv2d(256, 256, kernel_size=(3, 3), stride=(1, 1), padding=(1, 1)) ====> SHAPE: torch.Size([256, 256, 3, 3])\n",
            "CONV: Conv2d(256, 512, kernel_size=(3, 3), stride=(1, 1), padding=(1, 1)) ====> SHAPE: torch.Size([512, 256, 3, 3])\n",
            "CONV: Conv2d(512, 512, kernel_size=(3, 3), stride=(1, 1), padding=(1, 1)) ====> SHAPE: torch.Size([512, 512, 3, 3])\n",
            "CONV: Conv2d(512, 512, kernel_size=(3, 3), stride=(1, 1), padding=(1, 1)) ====> SHAPE: torch.Size([512, 512, 3, 3])\n",
            "CONV: Conv2d(512, 512, kernel_size=(3, 3), stride=(1, 1), padding=(1, 1)) ====> SHAPE: torch.Size([512, 512, 3, 3])\n",
            "CONV: Conv2d(512, 512, kernel_size=(3, 3), stride=(1, 1), padding=(1, 1)) ====> SHAPE: torch.Size([512, 512, 3, 3])\n",
            "CONV: Conv2d(512, 512, kernel_size=(3, 3), stride=(1, 1), padding=(1, 1)) ====> SHAPE: torch.Size([512, 512, 3, 3])\n"
          ]
        }
      ]
    },
    {
      "cell_type": "code",
      "metadata": {
        "colab": {
          "base_uri": "https://localhost:8080/",
          "height": 954
        },
        "id": "F0xoq_mXPxdB",
        "outputId": "a55c8df2-d30a-4c25-da2b-c9021608ea26"
      },
      "source": [
        "plt.figure(figsize=(20, 17))\n",
        "weight_num = 10\n",
        "filter_num = len(model_weights[weight_num])\n",
        "weight_plot_x = int(2**int(math.log2(filter_num)/2))\n",
        "weight_plot_y = int(filter_num/weight_plot_x)\n",
        "print(filter_num, weight_plot_x, weight_plot_y)\n",
        "\n",
        "for i, filter in enumerate(model_weights[weight_num]):\n",
        "    plt.subplot(weight_plot_x, weight_plot_y, i+1)\n",
        "    plt.imshow(filter[0, :, :].detach().cpu().numpy(), cmap='viridis')\n",
        "    plt.axis('off')\n",
        "plt.savefig('fig_weight_'+str(weight_num))\n",
        "plt.show()"
      ],
      "execution_count": 43,
      "outputs": [
        {
          "output_type": "stream",
          "name": "stdout",
          "text": [
            "512 16 32\n"
          ]
        },
        {
          "output_type": "display_data",
          "data": {
            "image/png": "[encoded data removed]",
            "text/plain": [
              "<Figure size 1440x1224 with 512 Axes>"
            ]
          },
          "metadata": {
            "needs_background": "light"
          }
        }
      ]
    },
    {
      "cell_type": "markdown",
      "metadata": {
        "id": "2Zc0qv-hayOK"
      },
      "source": [
        "##Check the filter information"
      ]
    },
    {
      "cell_type": "code",
      "metadata": {
        "colab": {
          "base_uri": "https://localhost:8080/"
        },
        "id": "Szzqrm-YSx4G",
        "outputId": "dd078d0d-227a-465f-da14-4ade1fb25869"
      },
      "source": [
        "test = model_weights[weight_num].detach().numpy()\n",
        "test = test*256\n",
        "test = test.astype(int)\n",
        "print(test)\n",
        "print(np.sum(test))"
      ],
      "execution_count": 91,
      "outputs": [
        {
          "output_type": "stream",
          "name": "stdout",
          "text": [
            "[[[[ -7  -4  -5]\n",
            "   [ -5  -2  -3]\n",
            "   [ -4  -4  -6]]\n",
            "\n",
            "  [[ -5  -6  -1]\n",
            "   [ -3  -4  -4]\n",
            "   [ -6  -2  -1]]\n",
            "\n",
            "  [[ -1   0  -1]\n",
            "   [  2   6   3]\n",
            "   [ -2   0  -2]]\n",
            "\n",
            "  ...\n",
            "\n",
            "  [[  6   9   5]\n",
            "   [ 11  13   8]\n",
            "   [  9  11   9]]\n",
            "\n",
            "  [[  6   2   5]\n",
            "   [  0  -2   3]\n",
            "   [  1  -2   6]]\n",
            "\n",
            "  [[  4   2   4]\n",
            "   [  6   2   6]\n",
            "   [  2   1   0]]]\n",
            "\n",
            "\n",
            " [[[ -6  -6   0]\n",
            "   [ -3  -3   0]\n",
            "   [  0  -1   2]]\n",
            "\n",
            "  [[  2   2   3]\n",
            "   [  0   4   4]\n",
            "   [ -3   0  -2]]\n",
            "\n",
            "  [[ -2  -3  -2]\n",
            "   [  0   3   2]\n",
            "   [  0   0   0]]\n",
            "\n",
            "  ...\n",
            "\n",
            "  [[  0   0   0]\n",
            "   [  6   6   0]\n",
            "   [  7   7   1]]\n",
            "\n",
            "  [[ -1   4   1]\n",
            "   [ -3   2   0]\n",
            "   [ -1   0  -2]]\n",
            "\n",
            "  [[  8  14   2]\n",
            "   [  2   9   2]\n",
            "   [ -4  -3   0]]]\n",
            "\n",
            "\n",
            " [[[  5   4   4]\n",
            "   [  3   1   0]\n",
            "   [  8   3   3]]\n",
            "\n",
            "  [[  2   2   0]\n",
            "   [  5   3   1]\n",
            "   [  0  -1  -2]]\n",
            "\n",
            "  [[ -7  -7  -9]\n",
            "   [ -6  -4  -6]\n",
            "   [ -6  -7  -6]]\n",
            "\n",
            "  ...\n",
            "\n",
            "  [[ -2  -2   0]\n",
            "   [ -2  -3  -1]\n",
            "   [  0   0  -3]]\n",
            "\n",
            "  [[ -1   0  -1]\n",
            "   [ -4  -3  -2]\n",
            "   [-10  -4  -4]]\n",
            "\n",
            "  [[ -1  -9  -4]\n",
            "   [  1 -11  -8]\n",
            "   [  7  -1   1]]]\n",
            "\n",
            "\n",
            " ...\n",
            "\n",
            "\n",
            " [[[ -2   3   0]\n",
            "   [ -4   2  -2]\n",
            "   [ -6   0  -2]]\n",
            "\n",
            "  [[  5   0   4]\n",
            "   [  2  -4  -4]\n",
            "   [  1  -2   0]]\n",
            "\n",
            "  [[ -2  -8  -5]\n",
            "   [  0  -3  -3]\n",
            "   [ -1  -2  -1]]\n",
            "\n",
            "  ...\n",
            "\n",
            "  [[  0  -1   0]\n",
            "   [  3   1   0]\n",
            "   [  2   3   1]]\n",
            "\n",
            "  [[ -5  -6  -4]\n",
            "   [ -4  -5  -4]\n",
            "   [ -1  -5  -3]]\n",
            "\n",
            "  [[ -4  -5  -9]\n",
            "   [ -1  -5  -6]\n",
            "   [  3  -2   1]]]\n",
            "\n",
            "\n",
            " [[[  2   7   4]\n",
            "   [  3   4   1]\n",
            "   [  3   2   0]]\n",
            "\n",
            "  [[  2   3   6]\n",
            "   [  6   5   7]\n",
            "   [  9   6   5]]\n",
            "\n",
            "  [[ -1  -2  -3]\n",
            "   [ -1   0   0]\n",
            "   [  2   1   3]]\n",
            "\n",
            "  ...\n",
            "\n",
            "  [[  1   2   0]\n",
            "   [  2   5   0]\n",
            "   [ -1   0  -2]]\n",
            "\n",
            "  [[ -3  -8  -5]\n",
            "   [ -1  -5  -3]\n",
            "   [ -1  -2   0]]\n",
            "\n",
            "  [[ -4  -9  -1]\n",
            "   [ -3  -4  -2]\n",
            "   [  0   0  -5]]]\n",
            "\n",
            "\n",
            " [[[  2   2   3]\n",
            "   [  4   3   4]\n",
            "   [  8   8  11]]\n",
            "\n",
            "  [[ -1   0  -2]\n",
            "   [ -3   0   0]\n",
            "   [ -9  -7  -7]]\n",
            "\n",
            "  [[ 11   7  10]\n",
            "   [ 10   7   7]\n",
            "   [  8   9  14]]\n",
            "\n",
            "  ...\n",
            "\n",
            "  [[ -1   0  -5]\n",
            "   [  0  -1  -1]\n",
            "   [  1   4   3]]\n",
            "\n",
            "  [[ -1  -5  -8]\n",
            "   [ -1  -2  -4]\n",
            "   [ -1  -3  -4]]\n",
            "\n",
            "  [[ -4  -5  -2]\n",
            "   [ -3   0  -2]\n",
            "   [  1   0   0]]]]\n",
            "-807479\n"
          ]
        }
      ]
    },
    {
      "cell_type": "markdown",
      "metadata": {
        "id": "S-jpSwa3a14s"
      },
      "source": [
        "## Check the feature-map information"
      ]
    },
    {
      "cell_type": "code",
      "metadata": {
        "id": "bdE42bYtatlh"
      },
      "source": [
        "activation = {}\n",
        "def get_activation(name):\n",
        "    def hook(model, input, output):\n",
        "        #activation[name] = output.detach()\n",
        "        #print(input)\n",
        "        activation[name] = input[0].detach()\n",
        "    return hook"
      ],
      "execution_count": 209,
      "outputs": []
    },
    {
      "cell_type": "code",
      "metadata": {
        "colab": {
          "base_uri": "https://localhost:8080/",
          "height": 1000
        },
        "id": "kE2sswMtbE4R",
        "outputId": "9cb93219-07e9-4f24-9781-616fc4d452ff"
      },
      "source": [
        "layer_num = 6\n",
        "layer_name = ''\n",
        "layer_name_list = []\n",
        "data, _ = train_dataset[5]\n",
        "data=data.to(device)\n",
        "data.unsqueeze_(0)\n",
        "\n",
        "# hook the layer\n",
        "counter = 0\n",
        "for child_name, child in model.named_modules():\n",
        "    if type(child) == nn.Conv2d:\n",
        "        layer_name_list.append(child_name)\n",
        "        if counter == layer_num:\n",
        "            print(child_name)\n",
        "            child.register_forward_hook(get_activation(child_name))\n",
        "        counter += 1\n",
        "\n",
        "print('max_layer_num:', counter)\n",
        "\n",
        "output = model(data)\n",
        "\n",
        "\n",
        "target_activation = activation[layer_name_list[layer_num]]\n",
        "np_target_act = target_activation.detach().numpy()\n",
        "#np_target_act = np_target_act*256\n",
        "#np_target_act = np_target_act.astype(int)\n",
        "print(np_target_act.shape)\n",
        "print(np_target_act[0, :, 0, 0])\n",
        "\n",
        "#target_act_sum = np.sum(np_target_act, axis=1)\n",
        "#print(target_act_sum.shape)\n",
        "#print(target_act_sum)\n",
        "plt.imshow(data[0].permute(1, 2, 0))"
      ],
      "execution_count": 234,
      "outputs": [
        {
          "output_type": "stream",
          "name": "stdout",
          "text": [
            "features.14\n",
            "max_layer_num: 13\n",
            "(1, 256, 8, 8)\n",
            "[ 0.          0.          2.1797755   0.          0.9744695   0.\n",
            "  1.6604654   8.297152    0.          6.8057923   0.          0.\n",
            "  0.12695467  0.          0.65121186  0.          0.          3.5402646\n",
            "  7.5853057   8.452747    2.1953015   5.78104     0.          1.578456\n",
            "  0.          3.358816    0.7153213   0.          6.3191886   4.9325027\n",
            "  1.9616785   3.9440098   1.4608958   4.2425604   0.          2.5448403\n",
            "  6.8886924   0.          0.          0.          4.463262    3.7027228\n",
            "  0.          2.4111948   6.5785794   0.          5.455225    1.2900592\n",
            "  2.1418004   6.9964004   6.055431    0.          0.          4.360676\n",
            "  0.          0.          0.          0.          0.          0.\n",
            "  3.1497052   1.300443    0.          0.          0.          2.1692052\n",
            "  0.          0.          0.          0.781948    0.         23.014006\n",
            "  6.689017    0.          0.          0.          4.3723416   0.\n",
            "  5.9645376   0.          0.          0.          2.046551    4.1068215\n",
            "  0.0759455   4.0077286   5.9885397   1.3071774   3.4392457   1.9634466\n",
            "  2.7683396   0.55402726  0.          5.745697    0.          0.\n",
            "  5.9235177   5.6780715   2.3109684   2.4120502   0.93400687  2.4027736\n",
            "  0.          5.370652    6.528899    0.          0.          2.218931\n",
            "  0.          0.          0.          0.          0.          0.\n",
            "  1.7204673   2.9876182   0.          1.8508126   0.          0.\n",
            "  7.3557625   0.90019965 10.255661    6.729595    1.0501679   0.\n",
            "  6.7638645   0.          0.          3.5596776   6.969362    0.\n",
            "  4.022821    2.694249    6.3139954   1.6926402   3.5347476   0.\n",
            "  0.          0.          0.          0.          0.          2.469429\n",
            "  0.          0.          2.4087727   0.          4.1066666   5.481595\n",
            "  4.773682    0.          0.          0.          0.          0.4462492\n",
            "  1.060921    0.          0.          2.3251886   4.547442    1.4790869\n",
            "  0.          0.          0.          0.35038745 11.976406    0.\n",
            " 20.885042    2.3458307   4.2214766   0.          4.770296    0.6691489\n",
            "  0.          2.255934    1.3095344   0.97394     0.          7.213086\n",
            "  5.2978525   1.2820117   6.1216173   0.          5.9627867   0.\n",
            "  0.          3.400489    0.          0.          0.          0.\n",
            "  4.394755    0.          0.33190024  1.8791797   0.          2.0365224\n",
            "  0.          1.509352    4.369537    0.          0.13653362  1.6913433\n",
            "  0.          0.11166787  0.74513274  3.365416    1.7194207   0.\n",
            "  0.          9.361934    0.          0.          0.          3.4341402\n",
            "  1.747309    8.077373    0.          0.          4.05366     0.\n",
            "  2.2250795   3.338596    2.4891162   0.          0.3597492   4.096841\n",
            "  4.7092175   0.          8.922953    0.          0.          0.\n",
            "  5.0577555   2.7281814   1.6660776   6.0554237   1.4126968   0.\n",
            "  0.          4.7774277   0.          0.          9.293295    3.9036317\n",
            "  0.          0.979549    0.99723935  0.          0.          0.\n",
            "  0.          2.8589563   5.3455577   5.3590064 ]\n"
          ]
        },
        {
          "output_type": "execute_result",
          "data": {
            "text/plain": [
              "<matplotlib.image.AxesImage at 0x7f47cc927490>"
            ]
          },
          "metadata": {},
          "execution_count": 234
        },
        {
          "output_type": "display_data",
          "data": {
            "image/png": "[encoded data removed]",
            "text/plain": [
              "<Figure size 432x288 with 1 Axes>"
            ]
          },
          "metadata": {
            "needs_background": "light"
          }
        }
      ]
    },
    {
      "cell_type": "code",
      "metadata": {
        "id": "0g8LhuUslPNg"
      },
      "source": [
        ""
      ],
      "execution_count": null,
      "outputs": []
    }
  ]
}